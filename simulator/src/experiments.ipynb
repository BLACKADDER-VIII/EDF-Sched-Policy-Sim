{
 "cells": [
  {
   "cell_type": "code",
   "execution_count": 1,
   "id": "c073c3cf",
   "metadata": {},
   "outputs": [],
   "source": [
    "from fp_edf import Fp_edf_sched\n",
    "from task import Task"
   ]
  },
  {
   "cell_type": "code",
   "execution_count": 2,
   "id": "68617a12",
   "metadata": {},
   "outputs": [],
   "source": [
    "tasks = [Task(4, 1), Task(20, 10)]\n",
    "\n",
    "sim = Fp_edf_sched(task_list=tasks)"
   ]
  },
  {
   "cell_type": "code",
   "execution_count": 3,
   "id": "d288a9a5",
   "metadata": {},
   "outputs": [
    {
     "name": "stdout",
     "output_type": "stream",
     "text": [
      "Iter: 20 Task: 4\n",
      "Iter: 20 Task: 20\n",
      "Iter: 20 Task: 20\n",
      "Iter: 20 Task: 20\n",
      "Iter: 20 Task: 20\n",
      "Iter: 20 Task: 20\n",
      "Iter: 20 Task: 20\n",
      "Iter: 20 Task: 20\n",
      "Iter: 20 Task: 20\n",
      "Iter: 20 Task: 20\n",
      "Iter: 20 Task: 20\n",
      "Iter: 20 Task: None\n",
      "Iter: 20 Task: None\n",
      "Iter: 20 Task: None\n",
      "Iter: 20 Task: None\n",
      "Iter: 20 Task: None\n",
      "Iter: 20 Task: None\n"
     ]
    },
    {
     "data": {
      "text/plain": [
       "0"
      ]
     },
     "execution_count": 3,
     "metadata": {},
     "output_type": "execute_result"
    }
   ],
   "source": [
    "sim.simulate(20)"
   ]
  }
 ],
 "metadata": {
  "kernelspec": {
   "display_name": "Python 3.9 (tensorflow)",
   "language": "python",
   "name": "tensorflow"
  },
  "language_info": {
   "codemirror_mode": {
    "name": "ipython",
    "version": 3
   },
   "file_extension": ".py",
   "mimetype": "text/x-python",
   "name": "python",
   "nbconvert_exporter": "python",
   "pygments_lexer": "ipython3",
   "version": "3.9.7"
  }
 },
 "nbformat": 4,
 "nbformat_minor": 5
}

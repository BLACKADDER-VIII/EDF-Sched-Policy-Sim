{
 "cells": [
  {
   "cell_type": "code",
   "execution_count": 1,
   "id": "c073c3cf",
   "metadata": {},
   "outputs": [
    {
     "name": "stderr",
     "output_type": "stream",
     "text": [
      "/Users/dhroovpandey/Desktop/Research/EDF_Policy/simulator/src/task.py:6: SyntaxWarning: assertion is always true, perhaps remove parentheses?\n",
      "  assert(self.deadline <= self.period, \"Deadline can't be more than period\")\n",
      "/Users/dhroovpandey/Desktop/Research/EDF_Policy/simulator/src/task.py:7: SyntaxWarning: assertion is always true, perhaps remove parentheses?\n",
      "  assert(self.deadline>self.exec_time, \"Deadline can't be less than execution time\")\n",
      "/Users/dhroovpandey/Desktop/Research/EDF_Policy/simulator/src/task.py:8: SyntaxWarning: assertion is always true, perhaps remove parentheses?\n",
      "  assert(self.period>0 and self.exec_time>0 and self.deadline>0, \"Values can't be 0\")\n"
     ]
    }
   ],
   "source": [
    "from fp_edf import Fp_edf_sched\n",
    "from task import Task"
   ]
  },
  {
   "cell_type": "code",
   "execution_count": 12,
   "id": "68617a12",
   "metadata": {},
   "outputs": [],
   "source": [
    "tasks = [Task(3, 1), Task(20, 12)]\n",
    "\n",
    "sim = Fp_edf_sched(task_list=tasks)"
   ]
  },
  {
   "cell_type": "code",
   "execution_count": 13,
   "id": "d288a9a5",
   "metadata": {},
   "outputs": [
    {
     "name": "stdout",
     "output_type": "stream",
     "text": [
      "[<Deadline: 3, Execution: 1>, <Deadline: 20, Execution: 12>]\n",
      "Iter: 0 Task: 3\n",
      "[<Deadline: 20, Execution: 12>]\n",
      "Iter: 1 Task: 20\n",
      "[]\n",
      "Iter: 2 Task: 20\n",
      "[]\n",
      "Adding job from task: 3\n",
      "Iter: 3 Task: 6\n",
      "[<Deadline: 20, Execution: 10>]\n",
      "Iter: 4 Task: 20\n",
      "[]\n",
      "Iter: 5 Task: 20\n",
      "[]\n",
      "Adding job from task: 3\n",
      "Iter: 6 Task: 9\n",
      "[<Deadline: 20, Execution: 8>]\n",
      "Iter: 7 Task: 20\n",
      "[]\n",
      "Iter: 8 Task: 20\n",
      "[]\n",
      "Adding job from task: 3\n",
      "Iter: 9 Task: 12\n",
      "[<Deadline: 20, Execution: 6>]\n",
      "Iter: 10 Task: 20\n",
      "[]\n",
      "Iter: 11 Task: 20\n",
      "[]\n",
      "Adding job from task: 3\n",
      "Iter: 12 Task: 15\n",
      "[<Deadline: 20, Execution: 4>]\n",
      "Iter: 13 Task: 20\n",
      "[]\n",
      "Iter: 14 Task: 20\n",
      "[]\n",
      "Adding job from task: 3\n",
      "Iter: 15 Task: 18\n",
      "[<Deadline: 20, Execution: 2>]\n",
      "Iter: 16 Task: 20\n",
      "[]\n",
      "Iter: 17 Task: 20\n",
      "[]\n",
      "Adding job from task: 3\n",
      "Iter: 18 Task: 21\n",
      "[]\n",
      "Iter: 19 Task: None\n",
      "[]\n",
      "Adding job from task: 20\n",
      "Iter: 20 Task: 40\n",
      "[]\n",
      "Adding job from task: 3\n",
      "Iter: 21 Task: 24\n",
      "[<Deadline: 40, Execution: 11>]\n",
      "Iter: 22 Task: 40\n",
      "[]\n",
      "Iter: 23 Task: 40\n",
      "[]\n",
      "Adding job from task: 3\n",
      "Iter: 24 Task: 27\n",
      "[<Deadline: 40, Execution: 9>]\n",
      "Iter: 25 Task: 40\n",
      "[]\n",
      "Iter: 26 Task: 40\n",
      "[]\n",
      "Adding job from task: 3\n",
      "Iter: 27 Task: 30\n",
      "[<Deadline: 40, Execution: 7>]\n",
      "Iter: 28 Task: 40\n",
      "[]\n",
      "Iter: 29 Task: 40\n",
      "[]\n",
      "Adding job from task: 3\n",
      "Iter: 30 Task: 33\n",
      "[<Deadline: 40, Execution: 5>]\n",
      "Iter: 31 Task: 40\n",
      "[]\n",
      "Iter: 32 Task: 40\n",
      "[]\n",
      "Adding job from task: 3\n",
      "Iter: 33 Task: 36\n",
      "[<Deadline: 40, Execution: 3>]\n",
      "Iter: 34 Task: 40\n",
      "[]\n",
      "Iter: 35 Task: 40\n",
      "[]\n",
      "Adding job from task: 3\n",
      "Iter: 36 Task: 39\n",
      "[<Deadline: 40, Execution: 1>]\n",
      "Iter: 37 Task: 40\n",
      "[]\n",
      "Iter: 38 Task: None\n",
      "[]\n",
      "Adding job from task: 3\n",
      "Iter: 39 Task: 42\n",
      "Number of preemptions: 11\n"
     ]
    }
   ],
   "source": [
    "sim.simulate(40)"
   ]
  }
 ],
 "metadata": {
  "kernelspec": {
   "display_name": "Python 3.9 (tensorflow)",
   "language": "python",
   "name": "tensorflow"
  },
  "language_info": {
   "codemirror_mode": {
    "name": "ipython",
    "version": 3
   },
   "file_extension": ".py",
   "mimetype": "text/x-python",
   "name": "python",
   "nbconvert_exporter": "python",
   "pygments_lexer": "ipython3",
   "version": "3.9.7"
  }
 },
 "nbformat": 4,
 "nbformat_minor": 5
}
